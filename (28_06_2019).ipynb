{
  "nbformat": 4,
  "nbformat_minor": 0,
  "metadata": {
    "colab": {
      "name": "(28-06-2019).ipynb",
      "version": "0.3.2",
      "provenance": []
    },
    "kernelspec": {
      "name": "python3",
      "display_name": "Python 3"
    }
  },
  "cells": [
    {
      "cell_type": "code",
      "metadata": {
        "id": "90l32YV9K5kY",
        "colab_type": "code",
        "colab": {}
      },
      "source": [
        "class classnames:\n",
        "  #Some function and varaibles \n",
        "  #Function --- used to perform the specific activity\n",
        "  #Variables--- data(\"memory\")"
      ],
      "execution_count": 0,
      "outputs": []
    },
    {
      "cell_type": "code",
      "metadata": {
        "id": "HXHswQ5fN5qd",
        "colab_type": "code",
        "colab": {}
      },
      "source": [
        "def test():\n",
        "  return\n",
        "test()\n"
      ],
      "execution_count": 0,
      "outputs": []
    },
    {
      "cell_type": "code",
      "metadata": {
        "id": "zUsQxpaSO3D8",
        "colab_type": "code",
        "colab": {}
      },
      "source": [
        "class demo:\n",
        "  def test():\n",
        "    print(\"test() for the class and medhod\")\n",
        "    return\n",
        "  \n",
        "obj=demo()\n",
        "obj=test()"
      ],
      "execution_count": 0,
      "outputs": []
    },
    {
      "cell_type": "code",
      "metadata": {
        "id": "kwOPg6GbPqya",
        "colab_type": "code",
        "outputId": "8edc99ea-a06a-45b6-d0a4-a4b5bd81ce88",
        "colab": {
          "base_uri": "https://localhost:8080/",
          "height": 34
        }
      },
      "source": [
        "class demo:\n",
        "  def fact(self,n):\n",
        "    #$return the factorial\n",
        "    fact=1\n",
        "    while(n!=0):\n",
        "      fact=fact*n\n",
        "      n=n-1\n",
        "    return fact\n",
        "\n",
        "p1=demo()\n",
        "print(p1.fact(5))#120"
      ],
      "execution_count": 0,
      "outputs": [
        {
          "output_type": "stream",
          "text": [
            "120\n"
          ],
          "name": "stdout"
        }
      ]
    },
    {
      "cell_type": "code",
      "metadata": {
        "id": "NZKGWDveUlh6",
        "colab_type": "code",
        "outputId": "b45f335b-5750-4116-aeb9-ded264531453",
        "colab": {
          "base_uri": "https://localhost:8080/",
          "height": 346
        }
      },
      "source": [
        "class demo2:\n",
        "  def accept(self,p1,p2):\n",
        "    self.p1=p1\n",
        "    self.p2=p2\n",
        "    return\n",
        "  def display(self):\n",
        "    print(\"p1=\",p1)\n",
        "    print(\"p2=\",p2)\n",
        "    \n",
        "c1=demo2()\n",
        "c1.accept(10,20)\n",
        "c1.display()\n",
        "  "
      ],
      "execution_count": 0,
      "outputs": [
        {
          "output_type": "stream",
          "text": [
            "p1= <__main__.demo object at 0x7fc4dc98f5c0>\n"
          ],
          "name": "stdout"
        },
        {
          "output_type": "error",
          "ename": "NameError",
          "evalue": "ignored",
          "traceback": [
            "\u001b[0;31m---------------------------------------------------------------------------\u001b[0m",
            "\u001b[0;31mNameError\u001b[0m                                 Traceback (most recent call last)",
            "\u001b[0;32m<ipython-input-18-a28c2446cb02>\u001b[0m in \u001b[0;36m<module>\u001b[0;34m()\u001b[0m\n\u001b[1;32m     10\u001b[0m \u001b[0mc1\u001b[0m\u001b[0;34m=\u001b[0m\u001b[0mdemo2\u001b[0m\u001b[0;34m(\u001b[0m\u001b[0;34m)\u001b[0m\u001b[0;34m\u001b[0m\u001b[0;34m\u001b[0m\u001b[0m\n\u001b[1;32m     11\u001b[0m \u001b[0mc1\u001b[0m\u001b[0;34m.\u001b[0m\u001b[0maccept\u001b[0m\u001b[0;34m(\u001b[0m\u001b[0;36m10\u001b[0m\u001b[0;34m,\u001b[0m\u001b[0;36m20\u001b[0m\u001b[0;34m)\u001b[0m\u001b[0;34m\u001b[0m\u001b[0;34m\u001b[0m\u001b[0m\n\u001b[0;32m---> 12\u001b[0;31m \u001b[0mc1\u001b[0m\u001b[0;34m.\u001b[0m\u001b[0mdisplay\u001b[0m\u001b[0;34m(\u001b[0m\u001b[0;34m)\u001b[0m\u001b[0;34m\u001b[0m\u001b[0;34m\u001b[0m\u001b[0m\n\u001b[0m\u001b[1;32m     13\u001b[0m \u001b[0;34m\u001b[0m\u001b[0m\n",
            "\u001b[0;32m<ipython-input-18-a28c2446cb02>\u001b[0m in \u001b[0;36mdisplay\u001b[0;34m(self)\u001b[0m\n\u001b[1;32m      6\u001b[0m   \u001b[0;32mdef\u001b[0m \u001b[0mdisplay\u001b[0m\u001b[0;34m(\u001b[0m\u001b[0mself\u001b[0m\u001b[0;34m)\u001b[0m\u001b[0;34m:\u001b[0m\u001b[0;34m\u001b[0m\u001b[0;34m\u001b[0m\u001b[0m\n\u001b[1;32m      7\u001b[0m     \u001b[0mprint\u001b[0m\u001b[0;34m(\u001b[0m\u001b[0;34m\"p1=\"\u001b[0m\u001b[0;34m,\u001b[0m\u001b[0mp1\u001b[0m\u001b[0;34m)\u001b[0m\u001b[0;34m\u001b[0m\u001b[0;34m\u001b[0m\u001b[0m\n\u001b[0;32m----> 8\u001b[0;31m     \u001b[0mprint\u001b[0m\u001b[0;34m(\u001b[0m\u001b[0;34m\"p2=\"\u001b[0m\u001b[0;34m,\u001b[0m\u001b[0mp2\u001b[0m\u001b[0;34m)\u001b[0m\u001b[0;34m\u001b[0m\u001b[0;34m\u001b[0m\u001b[0m\n\u001b[0m\u001b[1;32m      9\u001b[0m \u001b[0;34m\u001b[0m\u001b[0m\n\u001b[1;32m     10\u001b[0m \u001b[0mc1\u001b[0m\u001b[0;34m=\u001b[0m\u001b[0mdemo2\u001b[0m\u001b[0;34m(\u001b[0m\u001b[0;34m)\u001b[0m\u001b[0;34m\u001b[0m\u001b[0;34m\u001b[0m\u001b[0m\n",
            "\u001b[0;31mNameError\u001b[0m: name 'p2' is not defined"
          ]
        }
      ]
    },
    {
      "cell_type": "code",
      "metadata": {
        "id": "2QE-hnICVrcS",
        "colab_type": "code",
        "outputId": "4eee8e4c-390b-4f21-c20a-e00efc41a54e",
        "colab": {
          "base_uri": "https://localhost:8080/",
          "height": 34
        }
      },
      "source": [
        "class demo2:\n",
        "  def __init__(self,p1,p2):\n",
        "    self.p1=p1\n",
        "    self.p2=p2\n",
        "  def add(self,p1,p2):\n",
        "    return p1+p2\n",
        "  \n",
        "c1=demo2(10,20)\n",
        "print(c1.add(100,200))\n",
        "  "
      ],
      "execution_count": 0,
      "outputs": [
        {
          "output_type": "stream",
          "text": [
            "300\n"
          ],
          "name": "stdout"
        }
      ]
    },
    {
      "cell_type": "code",
      "metadata": {
        "id": "_IDtRIX8XnS4",
        "colab_type": "code",
        "outputId": "e64fec65-8047-4496-f274-a4c9cbf024da",
        "colab": {
          "base_uri": "https://localhost:8080/",
          "height": 34
        }
      },
      "source": [
        "import numpy as np\n",
        "np.arange(1,10)"
      ],
      "execution_count": 0,
      "outputs": [
        {
          "output_type": "execute_result",
          "data": {
            "text/plain": [
              "array([1, 2, 3, 4, 5, 6, 7, 8, 9])"
            ]
          },
          "metadata": {
            "tags": []
          },
          "execution_count": 25
        }
      ]
    },
    {
      "cell_type": "code",
      "metadata": {
        "id": "8ZCl2GbTRS-b",
        "colab_type": "code",
        "colab": {}
      },
      "source": [
        "a1=np.array(1,2,3),(4,5,6)\n",
        "print(\"S\")"
      ],
      "execution_count": 0,
      "outputs": []
    },
    {
      "cell_type": "code",
      "metadata": {
        "id": "lvMy13A0WW33",
        "colab_type": "code",
        "outputId": "6cd63a80-3602-4e99-8d41-710d528129fc",
        "colab": {
          "base_uri": "https://localhost:8080/",
          "height": 34
        }
      },
      "source": [
        "c1=np.array([1,2])\n",
        "c2=np.array([4,5])\n",
        "np.dot(c1,c2)"
      ],
      "execution_count": 0,
      "outputs": [
        {
          "output_type": "execute_result",
          "data": {
            "text/plain": [
              "14"
            ]
          },
          "metadata": {
            "tags": []
          },
          "execution_count": 26
        }
      ]
    },
    {
      "cell_type": "code",
      "metadata": {
        "id": "DgAKIDEIXdMu",
        "colab_type": "code",
        "outputId": "824f63c7-a42d-4b0d-fd00-8a90fc8b319c",
        "colab": {
          "base_uri": "https://localhost:8080/",
          "height": 50
        }
      },
      "source": [
        "c1=np.array([(1,2),(3,4)])\n",
        "c2=np.array([(3,4),(1,2)])\n",
        "np.dot(c1,c2)"
      ],
      "execution_count": 0,
      "outputs": [
        {
          "output_type": "execute_result",
          "data": {
            "text/plain": [
              "array([[ 5,  8],\n",
              "       [13, 20]])"
            ]
          },
          "metadata": {
            "tags": []
          },
          "execution_count": 28
        }
      ]
    },
    {
      "cell_type": "code",
      "metadata": {
        "id": "H-CyX5kmYD5Y",
        "colab_type": "code",
        "outputId": "b2aef748-4344-4b36-ea17-b21d109529bc",
        "colab": {
          "base_uri": "https://localhost:8080/",
          "height": 50
        }
      },
      "source": [
        "b1=np.array([(1,5),(6,9)])\n",
        "b2=np.array([(1,3),(1,6)])\n",
        "np.matmul(b1,b2)"
      ],
      "execution_count": 0,
      "outputs": [
        {
          "output_type": "execute_result",
          "data": {
            "text/plain": [
              "array([[ 6, 33],\n",
              "       [15, 72]])"
            ]
          },
          "metadata": {
            "tags": []
          },
          "execution_count": 30
        }
      ]
    },
    {
      "cell_type": "markdown",
      "metadata": {
        "id": "c8MuZYEScpvf",
        "colab_type": "text"
      },
      "source": [
        "###Pandas Basics"
      ]
    },
    {
      "cell_type": "code",
      "metadata": {
        "id": "V6uJIA7NYvFY",
        "colab_type": "code",
        "outputId": "577e1b98-9863-46b4-a63a-1db7b1b0263e",
        "colab": {
          "base_uri": "https://localhost:8080/",
          "height": 134
        }
      },
      "source": [
        "import pandas as pd \n",
        "dict={\"Name\":[\"Anil\",\"Akhil\",\"Dinesh\",\"Harsha\",\"Ajay\",\"Kran\"],\"EmailID\":[\"anil@hmail.com\",\"akhil@gmail.com\",\"dinesh@gmail.com\",\"harsha@gmail.com\",\"ajay@gmail.com\",\"Kran@gmail.com\"],\"Mobile number\":[999,888,777,888,777,999],\"Address\":[\"Hyd\",\"Hyd\",\"Hyd\",\"Hyd\",\"Hyd\",\"Hyd\"]}\n",
        "b=pd.DataFrame(dict)\n",
        "print(b)"
      ],
      "execution_count": 0,
      "outputs": [
        {
          "output_type": "stream",
          "text": [
            "     Name           EmailID  Mobile number Address\n",
            "0    Anil    anil@hmail.com            999     Hyd\n",
            "1   Akhil   akhil@gmail.com            888     Hyd\n",
            "2  Dinesh  dinesh@gmail.com            777     Hyd\n",
            "3  Harsha  harsha@gmail.com            888     Hyd\n",
            "4    Ajay    ajay@gmail.com            777     Hyd\n",
            "5    Kran    Kran@gmail.com            999     Hyd\n"
          ],
          "name": "stdout"
        }
      ]
    },
    {
      "cell_type": "code",
      "metadata": {
        "id": "2KkLdQx8i1Au",
        "colab_type": "code",
        "outputId": "b002dd32-2e66-443f-c32f-a9c4f6c72296",
        "colab": {
          "base_uri": "https://localhost:8080/",
          "height": 134
        }
      },
      "source": [
        "b.index=[\"01\",\"02\",\"03\",\"04\",\"05\",\"06\"]\n",
        "print(b)"
      ],
      "execution_count": 0,
      "outputs": [
        {
          "output_type": "stream",
          "text": [
            "      Name           EmailID  Mobile number Address\n",
            "01    Anil    anil@hmail.com            999     Hyd\n",
            "02   Akhil   akhil@gmail.com            888     Hyd\n",
            "03  Dinesh  dinesh@gmail.com            777     Hyd\n",
            "04  Harsha  harsha@gmail.com            888     Hyd\n",
            "05    Ajay    ajay@gmail.com            777     Hyd\n",
            "06    Kran    Kran@gmail.com            999     Hyd\n"
          ],
          "name": "stdout"
        }
      ]
    },
    {
      "cell_type": "code",
      "metadata": {
        "id": "iBJVHnqqjZnT",
        "colab_type": "code",
        "colab": {}
      },
      "source": [
        ""
      ],
      "execution_count": 0,
      "outputs": []
    }
  ]
}