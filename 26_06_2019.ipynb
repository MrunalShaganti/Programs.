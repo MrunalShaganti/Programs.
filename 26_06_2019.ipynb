{
  "nbformat": 4,
  "nbformat_minor": 0,
  "metadata": {
    "colab": {
      "name": "26-06-2019.ipynb",
      "version": "0.3.2",
      "provenance": []
    },
    "kernelspec": {
      "name": "python3",
      "display_name": "Python 3"
    }
  },
  "cells": [
    {
      "cell_type": "code",
      "metadata": {
        "id": "hwH8LM6G6TMq",
        "colab_type": "code",
        "outputId": "a787072d-b368-40ec-9e61-3464db8a8fdf",
        "colab": {
          "base_uri": "https://localhost:8080/",
          "height": 50
        }
      },
      "source": [
        "s='Python is Easy Programming to learn and intersting'\n",
        "s1='python'\n",
        "print(s.islower())\n",
        "print(s1.islower())\n"
      ],
      "execution_count": 0,
      "outputs": [
        {
          "output_type": "stream",
          "text": [
            "False\n",
            "True\n"
          ],
          "name": "stdout"
        }
      ]
    },
    {
      "cell_type": "code",
      "metadata": {
        "id": "3KSoGWEu6nMS",
        "colab_type": "code",
        "outputId": "1cc5fa35-af0a-4100-8c19-708d7b438d73",
        "colab": {
          "base_uri": "https://localhost:8080/",
          "height": 50
        }
      },
      "source": [
        "s='Application'\n",
        "s1='A'\n",
        "print(s.isupper())\n",
        "print(s1.isupper())"
      ],
      "execution_count": 0,
      "outputs": [
        {
          "output_type": "stream",
          "text": [
            "False\n",
            "True\n"
          ],
          "name": "stdout"
        }
      ]
    },
    {
      "cell_type": "code",
      "metadata": {
        "id": "_BSmaLp86y1f",
        "colab_type": "code",
        "outputId": "20b7a77e-e3e8-4b86-c487-cdc8bc8b3165",
        "colab": {
          "base_uri": "https://localhost:8080/",
          "height": 50
        }
      },
      "source": [
        "s='Application'\n",
        "s1=\"App1889\"\n",
        "print(s.isalpha())\n",
        "print(s1.isalpha())\n"
      ],
      "execution_count": 0,
      "outputs": [
        {
          "output_type": "stream",
          "text": [
            "True\n",
            "False\n"
          ],
          "name": "stdout"
        }
      ]
    },
    {
      "cell_type": "code",
      "metadata": {
        "id": "jgp3EFEn71YV",
        "colab_type": "code",
        "outputId": "d2a6fe50-e6b4-46eb-8c94-20b57a0b5318",
        "colab": {
          "base_uri": "https://localhost:8080/",
          "height": 212
        }
      },
      "source": [
        "s='Python Programming'\n",
        "s1=\"Python programming\"\n",
        "print(s.islistle())\n",
        "print(s1.islistle())"
      ],
      "execution_count": 0,
      "outputs": [
        {
          "output_type": "error",
          "ename": "AttributeError",
          "evalue": "ignored",
          "traceback": [
            "\u001b[0;31m---------------------------------------------------------------------------\u001b[0m",
            "\u001b[0;31mAttributeError\u001b[0m                            Traceback (most recent call last)",
            "\u001b[0;32m<ipython-input-6-86999b5e2726>\u001b[0m in \u001b[0;36m<module>\u001b[0;34m()\u001b[0m\n\u001b[1;32m      1\u001b[0m \u001b[0ms\u001b[0m\u001b[0;34m=\u001b[0m\u001b[0;34m'Python Programming'\u001b[0m\u001b[0;34m\u001b[0m\u001b[0;34m\u001b[0m\u001b[0m\n\u001b[1;32m      2\u001b[0m \u001b[0ms1\u001b[0m\u001b[0;34m=\u001b[0m\u001b[0;34m\"Python programming\"\u001b[0m\u001b[0;34m\u001b[0m\u001b[0;34m\u001b[0m\u001b[0m\n\u001b[0;32m----> 3\u001b[0;31m \u001b[0mprint\u001b[0m\u001b[0;34m(\u001b[0m\u001b[0ms\u001b[0m\u001b[0;34m.\u001b[0m\u001b[0mislistle\u001b[0m\u001b[0;34m(\u001b[0m\u001b[0;34m)\u001b[0m\u001b[0;34m)\u001b[0m\u001b[0;34m\u001b[0m\u001b[0;34m\u001b[0m\u001b[0m\n\u001b[0m\u001b[1;32m      4\u001b[0m \u001b[0mprint\u001b[0m\u001b[0;34m(\u001b[0m\u001b[0ms1\u001b[0m\u001b[0;34m.\u001b[0m\u001b[0mislistle\u001b[0m\u001b[0;34m(\u001b[0m\u001b[0;34m)\u001b[0m\u001b[0;34m)\u001b[0m\u001b[0;34m\u001b[0m\u001b[0;34m\u001b[0m\u001b[0m\n",
            "\u001b[0;31mAttributeError\u001b[0m: 'str' object has no attribute 'islistle'"
          ]
        }
      ]
    },
    {
      "cell_type": "code",
      "metadata": {
        "id": "YZi_cBvG-TEu",
        "colab_type": "code",
        "outputId": "d12ba638-0de9-4661-e8aa-4fe45179946f",
        "colab": {
          "base_uri": "https://localhost:8080/",
          "height": 34
        }
      },
      "source": [
        "s=\"Python\"\n",
        "print(s.isspace())"
      ],
      "execution_count": 0,
      "outputs": [
        {
          "output_type": "stream",
          "text": [
            "False\n"
          ],
          "name": "stdout"
        }
      ]
    },
    {
      "cell_type": "code",
      "metadata": {
        "id": "oMVRgnXU--pT",
        "colab_type": "code",
        "outputId": "f069a216-f64c-4b20-ef55-50e610a5e5be",
        "colab": {
          "base_uri": "https://localhost:8080/",
          "height": 34
        }
      },
      "source": [
        "str=\"Python\"\n",
        "print((' '.join(str)))"
      ],
      "execution_count": 0,
      "outputs": [
        {
          "output_type": "stream",
          "text": [
            "P y t h o n\n"
          ],
          "name": "stdout"
        }
      ]
    },
    {
      "cell_type": "code",
      "metadata": {
        "id": "9kUklRk0_rsD",
        "colab_type": "code",
        "outputId": "f7cadfc9-7d28-4109-ca80-092c18880038",
        "colab": {
          "base_uri": "https://localhost:8080/",
          "height": 34
        }
      },
      "source": [
        "print(\",\".join([\"Python\",\"Programing\",\"Easy\"]))"
      ],
      "execution_count": 0,
      "outputs": [
        {
          "output_type": "stream",
          "text": [
            "Python,Programing,Easy\n"
          ],
          "name": "stdout"
        }
      ]
    },
    {
      "cell_type": "code",
      "metadata": {
        "id": "edWPYuPWAdRl",
        "colab_type": "code",
        "outputId": "dd06ba9f-86ec-4562-961c-2a85855a1ec9",
        "colab": {
          "base_uri": "https://localhost:8080/",
          "height": 34
        }
      },
      "source": [
        "lst=[\"\",\"\"]\n",
        "print(\",\".join(lst))"
      ],
      "execution_count": 0,
      "outputs": [
        {
          "output_type": "stream",
          "text": [
            ",\n"
          ],
          "name": "stdout"
        }
      ]
    },
    {
      "cell_type": "code",
      "metadata": {
        "id": "ujQfw8IhAwB3",
        "colab_type": "code",
        "outputId": "4f04727d-2f9c-49ce-886a-d01a09dd5c7f",
        "colab": {
          "base_uri": "https://localhost:8080/",
          "height": 67
        }
      },
      "source": [
        "s='Python is Easy Programming to learn and intersting'\n",
        "print(s.split())\n",
        "print(s.split('a'))\n",
        "print(s.split(','))"
      ],
      "execution_count": 0,
      "outputs": [
        {
          "output_type": "stream",
          "text": [
            "['Python', 'is', 'Easy', 'Programming', 'to', 'learn', 'and', 'intersting']\n",
            "['Python is E', 'sy Progr', 'mming to le', 'rn ', 'nd intersting']\n",
            "['Python is Easy Programming to learn and intersting']\n"
          ],
          "name": "stdout"
        }
      ]
    },
    {
      "cell_type": "code",
      "metadata": {
        "id": "MezBJ_wFBpro",
        "colab_type": "code",
        "outputId": "a49c4b3d-0087-4a41-f1cf-faaa4e6f6a17",
        "colab": {
          "base_uri": "https://localhost:8080/",
          "height": 50
        }
      },
      "source": [
        "s='Python is Easy Programming to learn and intersting'\n",
        "lst=s.split()\n",
        "print(lst)\n",
        "print(lst.index(\"is\"))"
      ],
      "execution_count": 0,
      "outputs": [
        {
          "output_type": "stream",
          "text": [
            "['Python', 'is', 'Easy', 'Programming', 'to', 'learn', 'and', 'intersting']\n",
            "1\n"
          ],
          "name": "stdout"
        }
      ]
    },
    {
      "cell_type": "code",
      "metadata": {
        "id": "SmYylKsBDn4e",
        "colab_type": "code",
        "outputId": "4220637f-be48-4f5d-cfe8-f4f3873075d2",
        "colab": {
          "base_uri": "https://localhost:8080/",
          "height": 54
        }
      },
      "source": [
        "s='Python is Easy Programming to learn and intersting'\n",
        "lst=list(s)\n",
        "print(lst)"
      ],
      "execution_count": 0,
      "outputs": [
        {
          "output_type": "stream",
          "text": [
            "['P', 'y', 't', 'h', 'o', 'n', ' ', 'i', 's', ' ', 'E', 'a', 's', 'y', ' ', 'P', 'r', 'o', 'g', 'r', 'a', 'm', 'm', 'i', 'n', 'g', ' ', 't', 'o', ' ', 'l', 'e', 'a', 'r', 'n', ' ', 'a', 'n', 'd', ' ', 'i', 'n', 't', 'e', 'r', 's', 't', 'i', 'n', 'g']\n"
          ],
          "name": "stdout"
        }
      ]
    },
    {
      "cell_type": "code",
      "metadata": {
        "id": "VsXwmLP3EVHY",
        "colab_type": "code",
        "outputId": "71c82a99-8dcb-4345-d689-36d857b5e465",
        "colab": {
          "base_uri": "https://localhost:8080/",
          "height": 34
        }
      },
      "source": [
        "s=\"Python Programming\";\n",
        "print(s.replace(\"gra\",\"application\"))"
      ],
      "execution_count": 0,
      "outputs": [
        {
          "output_type": "stream",
          "text": [
            "Python Proapplicationmming\n"
          ],
          "name": "stdout"
        }
      ]
    },
    {
      "cell_type": "code",
      "metadata": {
        "id": "tr8CXg5tJDlm",
        "colab_type": "code",
        "outputId": "33943e39-82e7-4915-e4fb-b0003f31cb43",
        "colab": {
          "base_uri": "https://localhost:8080/",
          "height": 101
        }
      },
      "source": [
        "t1=(\"Python\",\"Progrmming\",1989,2019,\"Machine Learning\",\"AI\")\n",
        "print(\"t1[0]=\",t1[0])\n",
        "print(\"t1[2]=\",t1[2])\n",
        "print(\"t1[-1]=\",t1[-1])\n",
        "print(\"t1[1:4]=\",t1[1:4])\n",
        "print(\"t1[2:-2]=\",t1[2:-2])"
      ],
      "execution_count": 0,
      "outputs": [
        {
          "output_type": "stream",
          "text": [
            "t1[0]= Python\n",
            "t1[2]= 1989\n",
            "t1[-1]= AI\n",
            "t1[1:4]= ('Progrmming', 1989, 2019)\n",
            "t1[2:-2]= (1989, 2019)\n"
          ],
          "name": "stdout"
        }
      ]
    },
    {
      "cell_type": "code",
      "metadata": {
        "id": "JhLXyAogMv71",
        "colab_type": "code",
        "outputId": "d63e7898-159b-4396-c2bc-394cf1935931",
        "colab": {
          "base_uri": "https://localhost:8080/",
          "height": 34
        }
      },
      "source": [
        "t1=(\"Python\",\"Progrmming\",1989,2019,\"Machine Learning\",\"AI\")\n",
        "print(t1)\n",
        "del t1"
      ],
      "execution_count": 0,
      "outputs": [
        {
          "output_type": "stream",
          "text": [
            "('Python', 'Progrmming', 1989, 2019, 'Machine Learning', 'AI')\n"
          ],
          "name": "stdout"
        }
      ]
    },
    {
      "cell_type": "code",
      "metadata": {
        "id": "Q5VToG6lOX_A",
        "colab_type": "code",
        "outputId": "f838716c-e394-41ac-9fa6-4466aff800d2",
        "colab": {
          "base_uri": "https://localhost:8080/",
          "height": 34
        }
      },
      "source": [
        "t1=(\"Python\",\"Programming\")\n",
        "t2=(1989,2019,\"ML\",\"AI\")\n",
        "t3=t1+t2\n",
        "print(t3)"
      ],
      "execution_count": 0,
      "outputs": [
        {
          "output_type": "stream",
          "text": [
            "('Python', 'Programming', 1989, 2019, 'ML', 'AI')\n"
          ],
          "name": "stdout"
        }
      ]
    },
    {
      "cell_type": "code",
      "metadata": {
        "id": "c2x0KnPAOsKP",
        "colab_type": "code",
        "outputId": "7e93f468-fe70-40c9-f08f-bdea0e32b660",
        "colab": {
          "base_uri": "https://localhost:8080/",
          "height": 84
        }
      },
      "source": [
        "user1={'Name':'Anil','Age':'29','EmailID':'anil@gmail.com','Mobile Number':'9744556622'}\n",
        "print(\"user1[Name]=\",user1['Name'])\n",
        "print(\"user1[EmailID]=\",user1['EmailID'])\n",
        "print(\"user1[Age]=\",user1['Age'])\n",
        "print(\"user1[Name]=\",user1['Mobile Number'])\n"
      ],
      "execution_count": 0,
      "outputs": [
        {
          "output_type": "stream",
          "text": [
            "user1[Name]= Anil\n",
            "user1[EmailID]= anil@gmail.com\n",
            "user1[Age]= 29\n",
            "user1[Name]= 9744556622\n"
          ],
          "name": "stdout"
        }
      ]
    },
    {
      "cell_type": "code",
      "metadata": {
        "id": "a6T6oz69fjEs",
        "colab_type": "code",
        "outputId": "bf355ca9-c380-4856-e0a1-863dc1a02135",
        "colab": {
          "base_uri": "https://localhost:8080/",
          "height": 84
        }
      },
      "source": [
        "user1={'Name':'Anil','Age':'29','EmailID':'anil@gmail.com','Mobile Number':'9744556622'}\n",
        "user2=user1.copy()\n",
        "\n",
        "print(user1)\n",
        "print(user2)\n",
        "user1['Address']='Hyderbad'\n",
        "print(user1)\n",
        "print(user2)"
      ],
      "execution_count": 0,
      "outputs": [
        {
          "output_type": "stream",
          "text": [
            "{'Name': 'Anil', 'Age': '29', 'EmailID': 'anil@gmail.com', 'Mobile Number': '9744556622'}\n",
            "{'Name': 'Anil', 'Age': '29', 'EmailID': 'anil@gmail.com', 'Mobile Number': '9744556622'}\n",
            "{'Name': 'Anil', 'Age': '29', 'EmailID': 'anil@gmail.com', 'Mobile Number': '9744556622', 'Address': 'Hyderbad'}\n",
            "{'Name': 'Anil', 'Age': '29', 'EmailID': 'anil@gmail.com', 'Mobile Number': '9744556622'}\n"
          ],
          "name": "stdout"
        }
      ]
    },
    {
      "cell_type": "code",
      "metadata": {
        "id": "gpnl2n9rmQnK",
        "colab_type": "code",
        "outputId": "2134ea73-cde8-4a50-a51a-01e99607a628",
        "colab": {
          "base_uri": "https://localhost:8080/",
          "height": 34
        }
      },
      "source": [
        "user1={'Name':'Anil','Age':'29','EmailID':'anil@gmail.com','Mobile Number':'9744556622'}\n",
        "print(user1.items())"
      ],
      "execution_count": 0,
      "outputs": [
        {
          "output_type": "stream",
          "text": [
            "dict_items([('Name', 'Anil'), ('Age', '29'), ('EmailID', 'anil@gmail.com'), ('Mobile Number', '9744556622')])\n"
          ],
          "name": "stdout"
        }
      ]
    },
    {
      "cell_type": "code",
      "metadata": {
        "id": "csL2Ij8Omka0",
        "colab_type": "code",
        "outputId": "f401eec2-5599-4888-ebec-2d5a76dd3c8c",
        "colab": {
          "base_uri": "https://localhost:8080/",
          "height": 50
        }
      },
      "source": [
        "user1={'Name':'Anil','Age':'29','EmailID':'anil@gmail.com','Mobile Number':'9744556622'}\n",
        "user2=user1.copy()\n",
        "print(user1.values())\n",
        "print(user2.values())"
      ],
      "execution_count": 0,
      "outputs": [
        {
          "output_type": "stream",
          "text": [
            "dict_values(['Anil', '29', 'anil@gmail.com', '9744556622'])\n",
            "dict_values(['Anil', '29', 'anil@gmail.com', '9744556622'])\n"
          ],
          "name": "stdout"
        }
      ]
    },
    {
      "cell_type": "code",
      "metadata": {
        "id": "obFKagHZmrX5",
        "colab_type": "code",
        "outputId": "cb91aaa3-ee4e-496e-aa71-1394673e4111",
        "colab": {
          "base_uri": "https://localhost:8080/",
          "height": 34
        }
      },
      "source": [
        "print('1.1'.isnumeric())"
      ],
      "execution_count": 0,
      "outputs": [
        {
          "output_type": "stream",
          "text": [
            "False\n"
          ],
          "name": "stdout"
        }
      ]
    },
    {
      "cell_type": "code",
      "metadata": {
        "id": "mmU1k3Mer90r",
        "colab_type": "code",
        "outputId": "4eb922b9-0495-4f20-db3f-48cf361324f3",
        "colab": {
          "base_uri": "https://localhost:8080/",
          "height": 34
        }
      },
      "source": [
        "lst=['Python','Programming']\n",
        "print(\"%s%s\"%(lst[0],lst[1]))"
      ],
      "execution_count": 0,
      "outputs": [
        {
          "output_type": "stream",
          "text": [
            "PythonProgramming\n"
          ],
          "name": "stdout"
        }
      ]
    },
    {
      "cell_type": "code",
      "metadata": {
        "id": "-ghPhTbLsPVK",
        "colab_type": "code",
        "outputId": "123503f5-53e0-4997-9f92-efd52b9e6827",
        "colab": {
          "base_uri": "https://localhost:8080/",
          "height": 34
        }
      },
      "source": [
        "lst=['Python','Programming']\n",
        "print(\"{0} {1}\".format(lst[0],lst[1]))"
      ],
      "execution_count": 0,
      "outputs": [
        {
          "output_type": "stream",
          "text": [
            "Python Programming\n"
          ],
          "name": "stdout"
        }
      ]
    },
    {
      "cell_type": "code",
      "metadata": {
        "id": "qtgaBpNp66el",
        "colab_type": "code",
        "outputId": "6af6e320-db10-48a2-c1af-3fc1e9db9e3b",
        "colab": {
          "base_uri": "https://localhost:8080/",
          "height": 67
        }
      },
      "source": [
        "contact={}\n",
        "def addcontact(name,phone):\n",
        "#verify that the contact does exist or not\n",
        "  if name not in contact:\n",
        "    contact[name]=phone\n",
        "    print(\"Contact %s added\" % name)\n",
        "  else:\n",
        "    print(\"Contact %s already exists\" % name)\n",
        "  \n",
        "  return  \n",
        "\n",
        "addcontact(\"Anil\",951375211)\n",
        "addcontact(\"Harsha\",966633221)\n",
        "addcontact(\"Anil\",98877664422)"
      ],
      "execution_count": 0,
      "outputs": [
        {
          "output_type": "stream",
          "text": [
            "Contact Anil added\n",
            "Contact Harsha added\n",
            "Contact Anil already exists\n"
          ],
          "name": "stdout"
        }
      ]
    },
    {
      "cell_type": "code",
      "metadata": {
        "id": "XSy_YMSY-aq9",
        "colab_type": "code",
        "outputId": "e4efb3a4-87ba-4935-cb58-4ec96929e13a",
        "colab": {
          "base_uri": "https://localhost:8080/",
          "height": 84
        }
      },
      "source": [
        "def searchcontact(name):\n",
        "  if name in contact:\n",
        "    print(name,\" : \",contact[name])\n",
        "  else:\n",
        "    print(\"%s does not exists\" % name)\n",
        "  return\n",
        "\n",
        "searchcontact(\"Anil\")\n",
        "searchcontact(\"Ajay\")\n",
        "searchcontact(\"Harsha\")\n",
        "searchcontact(\"Kranth\")\n"
      ],
      "execution_count": 0,
      "outputs": [
        {
          "output_type": "stream",
          "text": [
            "Anil  :  951375211\n",
            "Ajay does not exists\n",
            "Harsha  :  966633221\n",
            "Kranth does not exists\n"
          ],
          "name": "stdout"
        }
      ]
    },
    {
      "cell_type": "code",
      "metadata": {
        "id": "aAx4IOXbCoYx",
        "colab_type": "code",
        "outputId": "55cabf4c-1df5-47f7-8357-e3a9e48be8a3",
        "colab": {
          "base_uri": "https://localhost:8080/",
          "height": 34
        }
      },
      "source": [
        "#New contact is given as a dictionary\n",
        "#Merge new contact with existing cotacts lists\n",
        "def importcontact(newcontact):\n",
        "    contact.update(newcontact)\n",
        "    print(len(newcontact.keys()),\"Contacts added successfully\")\n",
        "    return\n",
        "newcontact={'Dinesh':9955112233,'Ajay':9988774455}\n",
        "importcontact(newcontact)\n",
        "    "
      ],
      "execution_count": 0,
      "outputs": [
        {
          "output_type": "stream",
          "text": [
            "2 Contacts added successfully\n"
          ],
          "name": "stdout"
        }
      ]
    },
    {
      "cell_type": "code",
      "metadata": {
        "id": "DTj46_EtEkJc",
        "colab_type": "code",
        "outputId": "70267532-fefc-4385-f66a-f4002dbf4c0c",
        "colab": {
          "base_uri": "https://localhost:8080/",
          "height": 34
        }
      },
      "source": [
        "print(contact)"
      ],
      "execution_count": 0,
      "outputs": [
        {
          "output_type": "stream",
          "text": [
            "{'Anil': 951375211, 'Harsha': 966633221, 'Dinesh': 9955112233, 'Ajay': 9988774455}\n"
          ],
          "name": "stdout"
        }
      ]
    },
    {
      "cell_type": "code",
      "metadata": {
        "id": "hbm4PDCRG1_Z",
        "colab_type": "code",
        "outputId": "0fc3c3f4-4e77-445b-a227-299a3f3fd46e",
        "colab": {
          "base_uri": "https://localhost:8080/",
          "height": 50
        }
      },
      "source": [
        "#Delete a contact from contacts list\n",
        "def deletecontact(name):\n",
        "  if name in contact:\n",
        "    del contact[name]\n",
        "    print(name,\" : is deleted from the contacts\")\n",
        "  else:\n",
        "    print(name,\" is not exists in the contacts\")\n",
        "  return\n",
        "deletecontact(\"Dinesh\")\n",
        "deletecontact(\"Naveen\")"
      ],
      "execution_count": 0,
      "outputs": [
        {
          "output_type": "stream",
          "text": [
            "Dinesh  : is deleted from the contacts\n",
            "Naveen  is not exists in the contacts\n"
          ],
          "name": "stdout"
        }
      ]
    },
    {
      "cell_type": "code",
      "metadata": {
        "id": "AxRaCaOHJ1yk",
        "colab_type": "code",
        "outputId": "7af148b1-4072-4f68-e802-25cc761930a6",
        "colab": {
          "base_uri": "https://localhost:8080/",
          "height": 34
        }
      },
      "source": [
        "print(contact)"
      ],
      "execution_count": 0,
      "outputs": [
        {
          "output_type": "stream",
          "text": [
            "{'Anil': 951375211, 'Harsha': 966633221, 'Ajay': 9988774455}\n"
          ],
          "name": "stdout"
        }
      ]
    },
    {
      "cell_type": "code",
      "metadata": {
        "id": "haevXFY7J5g8",
        "colab_type": "code",
        "colab": {}
      },
      "source": [
        "def updatecontact(name,phone)\n",
        "    if name in contact:\n",
        "       contact[name]=phone\n",
        "       print(name,\" : updated with new phone number\")\n",
        "    else:\n",
        "      \n",
        "      "
      ],
      "execution_count": 0,
      "outputs": []
    },
    {
      "cell_type": "code",
      "metadata": {
        "id": "NKx6B4eOSHyu",
        "colab_type": "code",
        "outputId": "6cfc51b6-e77f-4c01-f5f1-41751feea2ab",
        "colab": {
          "base_uri": "https://localhost:8080/",
          "height": 34
        }
      },
      "source": [
        "import random\n",
        "def generaterandomnumber(n,lb,ub):\n",
        "  for i in range(0,n):\n",
        "      print(random.randint(lb,ub),end=\" \")\n",
        "  return\n",
        "generaterandomnumber(10,12,120)"
      ],
      "execution_count": 0,
      "outputs": [
        {
          "output_type": "stream",
          "text": [
            "35 88 120 21 68 44 21 104 86 21 "
          ],
          "name": "stdout"
        }
      ]
    }
  ]
}