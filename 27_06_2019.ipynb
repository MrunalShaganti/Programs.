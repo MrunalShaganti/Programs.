{
  "nbformat": 4,
  "nbformat_minor": 0,
  "metadata": {
    "colab": {
      "name": "27-06-2019.ipynb",
      "version": "0.3.2",
      "provenance": []
    },
    "kernelspec": {
      "name": "python3",
      "display_name": "Python 3"
    }
  },
  "cells": [
    {
      "cell_type": "code",
      "metadata": {
        "id": "5V_un18O_fQd",
        "colab_type": "code",
        "outputId": "0af82fd7-0170-4940-dfb9-570473c560e0",
        "colab": {
          "base_uri": "https://localhost:8080/",
          "height": 34
        }
      },
      "source": [
        "#Function to Create a file and write some data\n",
        "def createfile(filename):\n",
        "    f=open(filename,\"w\")\n",
        "    for i in range(10):\n",
        "        f.write(\"This is %d Line\\n\" % i)\n",
        "    print(\"File is created successfully and data is written\")\n",
        "    f.close()\n",
        "    return\n",
        "createfile(\"file1.txt\")\n",
        "  "
      ],
      "execution_count": 0,
      "outputs": [
        {
          "output_type": "stream",
          "text": [
            "File is created successfully and data is written\n"
          ],
          "name": "stdout"
        }
      ]
    },
    {
      "cell_type": "code",
      "metadata": {
        "id": "ZggyPqyOGPeP",
        "colab_type": "code",
        "outputId": "1970f97f-dc09-42c2-8b9d-a056504947a1",
        "colab": {
          "base_uri": "https://localhost:8080/",
          "height": 202
        }
      },
      "source": [
        "#Function for reading the file\n",
        "def readfile(filename):\n",
        "  f=open(filename,\"r\")\n",
        "  if f.mode==\"r\":\n",
        "    x=f.read()\n",
        "    print(x)\n",
        "  f.close()\n",
        "  return\n",
        "readfile(\"file1.txt\")"
      ],
      "execution_count": 0,
      "outputs": [
        {
          "output_type": "stream",
          "text": [
            "This is 0 Line\n",
            "This is 1 Line\n",
            "This is 2 Line\n",
            "This is 3 Line\n",
            "This is 4 Line\n",
            "This is 5 Line\n",
            "This is 6 Line\n",
            "This is 7 Line\n",
            "This is 8 Line\n",
            "This is 9 Line\n",
            "\n"
          ],
          "name": "stdout"
        }
      ]
    },
    {
      "cell_type": "code",
      "metadata": {
        "id": "UgYDKK-3Hqh8",
        "colab_type": "code",
        "colab": {}
      },
      "source": [
        "#Data to append\n",
        "#Function to append the data to existing file\n",
        "def appenddata(filename):\n",
        "    f=open(filename,\"a\")\n",
        "    f.write(\"New line 1\\n\")\n",
        "    f.write(\"New line 2\\n\")\n",
        "    f.close()\n",
        "    return\n",
        "appenddata(\"file1.txt\")"
      ],
      "execution_count": 0,
      "outputs": []
    },
    {
      "cell_type": "code",
      "metadata": {
        "id": "IXBnVVBeZB-U",
        "colab_type": "code",
        "outputId": "b0a36674-e2ed-4428-ac0f-cbadd920b01a",
        "colab": {
          "base_uri": "https://localhost:8080/",
          "height": 34
        }
      },
      "source": [
        "def dataanalysiswordcount(filename,word):\n",
        "    f=open(filename,\"r\")\n",
        "    if f.mode==\"r\":\n",
        "      x=f.read()\n",
        "      lst=x.split()\n",
        "    cnt=lst.count(word)\n",
        "    return cnt\n",
        "print(dataanalysiswordcount(\"file1.txt\",\"rest\"))\n",
        "  "
      ],
      "execution_count": 0,
      "outputs": [
        {
          "output_type": "stream",
          "text": [
            "0\n"
          ],
          "name": "stdout"
        }
      ]
    },
    {
      "cell_type": "code",
      "metadata": {
        "id": "m-8dq2qNaFU-",
        "colab_type": "code",
        "outputId": "111a435e-6164-4994-bb26-f420d9103758",
        "colab": {
          "base_uri": "https://localhost:8080/",
          "height": 34
        }
      },
      "source": [
        "#Function to count of characters in the file\n",
        "def countcharacter(filename):\n",
        "  f=open(filename,\"r\")\n",
        "  if f.mode==\"r\":\n",
        "    x=f.read()\n",
        "    lst=list(x)\n",
        "  return len(lst)\n",
        "print(countcharacter(\"file1.txt\"))\n"
      ],
      "execution_count": 0,
      "outputs": [
        {
          "output_type": "stream",
          "text": [
            "279\n"
          ],
          "name": "stdout"
        }
      ]
    },
    {
      "cell_type": "code",
      "metadata": {
        "id": "FX2liOMLij18",
        "colab_type": "code",
        "outputId": "b6563a27-2706-4179-d85f-3748fa36a8c1",
        "colab": {
          "base_uri": "https://localhost:8080/",
          "height": 1000
        }
      },
      "source": [
        "#Function to count the upper case character from the\n",
        "def uppercasecharacter(filename):\n",
        "  f=open(filename,\"r\")\n",
        "  if f.mode==\"r\":\n",
        "    x=f.read()\n",
        "    lst=list(x)\n",
        "  for i in lst:\n",
        "    return lst\n",
        "uppercasecharacter(\"file1.txt\")  \n",
        "  \n"
      ],
      "execution_count": 0,
      "outputs": [
        {
          "output_type": "execute_result",
          "data": {
            "text/plain": [
              "['T',\n",
              " 'h',\n",
              " 'i',\n",
              " 's',\n",
              " ' ',\n",
              " 'i',\n",
              " 's',\n",
              " ' ',\n",
              " '0',\n",
              " ' ',\n",
              " 'L',\n",
              " 'i',\n",
              " 'n',\n",
              " 'e',\n",
              " '\\n',\n",
              " 'T',\n",
              " 'h',\n",
              " 'i',\n",
              " 's',\n",
              " ' ',\n",
              " 'i',\n",
              " 's',\n",
              " ' ',\n",
              " '1',\n",
              " ' ',\n",
              " 'L',\n",
              " 'i',\n",
              " 'n',\n",
              " 'e',\n",
              " '\\n',\n",
              " 'T',\n",
              " 'h',\n",
              " 'i',\n",
              " 's',\n",
              " ' ',\n",
              " 'i',\n",
              " 's',\n",
              " ' ',\n",
              " '2',\n",
              " ' ',\n",
              " 'L',\n",
              " 'i',\n",
              " 'n',\n",
              " 'e',\n",
              " '\\n',\n",
              " 'T',\n",
              " 'h',\n",
              " 'i',\n",
              " 's',\n",
              " ' ',\n",
              " 'i',\n",
              " 's',\n",
              " ' ',\n",
              " '3',\n",
              " ' ',\n",
              " 'L',\n",
              " 'i',\n",
              " 'n',\n",
              " 'e',\n",
              " '\\n',\n",
              " 'T',\n",
              " 'h',\n",
              " 'i',\n",
              " 's',\n",
              " ' ',\n",
              " 'i',\n",
              " 's',\n",
              " ' ',\n",
              " '4',\n",
              " ' ',\n",
              " 'L',\n",
              " 'i',\n",
              " 'n',\n",
              " 'e',\n",
              " '\\n',\n",
              " 'T',\n",
              " 'h',\n",
              " 'i',\n",
              " 's',\n",
              " ' ',\n",
              " 'i',\n",
              " 's',\n",
              " ' ',\n",
              " '5',\n",
              " ' ',\n",
              " 'L',\n",
              " 'i',\n",
              " 'n',\n",
              " 'e',\n",
              " '\\n',\n",
              " 'T',\n",
              " 'h',\n",
              " 'i',\n",
              " 's',\n",
              " ' ',\n",
              " 'i',\n",
              " 's',\n",
              " ' ',\n",
              " '6',\n",
              " ' ',\n",
              " 'L',\n",
              " 'i',\n",
              " 'n',\n",
              " 'e',\n",
              " '\\n',\n",
              " 'T',\n",
              " 'h',\n",
              " 'i',\n",
              " 's',\n",
              " ' ',\n",
              " 'i',\n",
              " 's',\n",
              " ' ',\n",
              " '7',\n",
              " ' ',\n",
              " 'L',\n",
              " 'i',\n",
              " 'n',\n",
              " 'e',\n",
              " '\\n',\n",
              " 'T',\n",
              " 'h',\n",
              " 'i',\n",
              " 's',\n",
              " ' ',\n",
              " 'i',\n",
              " 's',\n",
              " ' ',\n",
              " '8',\n",
              " ' ',\n",
              " 'L',\n",
              " 'i',\n",
              " 'n',\n",
              " 'e',\n",
              " '\\n',\n",
              " 'T',\n",
              " 'h',\n",
              " 'i',\n",
              " 's',\n",
              " ' ',\n",
              " 'i',\n",
              " 's',\n",
              " ' ',\n",
              " '9',\n",
              " ' ',\n",
              " 'L',\n",
              " 'i',\n",
              " 'n',\n",
              " 'e',\n",
              " '\\n',\n",
              " 'N',\n",
              " 'e',\n",
              " 'w',\n",
              " ' ',\n",
              " 'l',\n",
              " 'i',\n",
              " 'n',\n",
              " 'e',\n",
              " ' ',\n",
              " '1',\n",
              " '\\n',\n",
              " 'N',\n",
              " 'e',\n",
              " 'w',\n",
              " ' ',\n",
              " 'l',\n",
              " 'i',\n",
              " 'n',\n",
              " 'e',\n",
              " 'N',\n",
              " 'e',\n",
              " 'w',\n",
              " ' ',\n",
              " 'l',\n",
              " 'i',\n",
              " 'n',\n",
              " 'e',\n",
              " ' ',\n",
              " '1',\n",
              " '\\n',\n",
              " 'N',\n",
              " 'e',\n",
              " 'w',\n",
              " ' ',\n",
              " 'l',\n",
              " 'i',\n",
              " 'n',\n",
              " 'e',\n",
              " ' ',\n",
              " '2',\n",
              " '\\n',\n",
              " 'N',\n",
              " 'e',\n",
              " 'w',\n",
              " ' ',\n",
              " 'l',\n",
              " 'i',\n",
              " 'n',\n",
              " 'e',\n",
              " ' ',\n",
              " '1',\n",
              " '\\n',\n",
              " 'N',\n",
              " 'e',\n",
              " 'w',\n",
              " ' ',\n",
              " 'l',\n",
              " 'i',\n",
              " 'n',\n",
              " 'e',\n",
              " ' ',\n",
              " '2',\n",
              " '\\n',\n",
              " 'N',\n",
              " 'e',\n",
              " 'w',\n",
              " ' ',\n",
              " 'l',\n",
              " 'i',\n",
              " 'n',\n",
              " 'e',\n",
              " ' ',\n",
              " '1',\n",
              " '\\n',\n",
              " 'N',\n",
              " 'e',\n",
              " 'w',\n",
              " ' ',\n",
              " 'l',\n",
              " 'i',\n",
              " 'n',\n",
              " 'e',\n",
              " ' ',\n",
              " '2',\n",
              " '\\n',\n",
              " 'N',\n",
              " 'e',\n",
              " 'w',\n",
              " ' ',\n",
              " 'l',\n",
              " 'i',\n",
              " 'n',\n",
              " 'e',\n",
              " ' ',\n",
              " '1',\n",
              " '\\n',\n",
              " 'N',\n",
              " 'e',\n",
              " 'w',\n",
              " ' ',\n",
              " 'l',\n",
              " 'i',\n",
              " 'n',\n",
              " 'e',\n",
              " ' ',\n",
              " '2',\n",
              " '\\n',\n",
              " 'N',\n",
              " 'e',\n",
              " 'w',\n",
              " ' ',\n",
              " 'l',\n",
              " 'i',\n",
              " 'n',\n",
              " 'e',\n",
              " ' ',\n",
              " '1',\n",
              " '\\n',\n",
              " 'N',\n",
              " 'e',\n",
              " 'w',\n",
              " ' ',\n",
              " 'l',\n",
              " 'i',\n",
              " 'n',\n",
              " 'e',\n",
              " ' ',\n",
              " '2',\n",
              " '\\n']"
            ]
          },
          "metadata": {
            "tags": []
          },
          "execution_count": 34
        }
      ]
    },
    {
      "cell_type": "code",
      "metadata": {
        "id": "ZFw91TFlmJe3",
        "colab_type": "code",
        "outputId": "a5139cf1-4764-44c7-aa9b-49085cb9a1f0",
        "colab": {
          "base_uri": "https://localhost:8080/",
          "height": 34
        }
      },
      "source": [
        "def uppercasecharacter(filename):\n",
        "  cntupper=0\n",
        "  f=open(filename,\"r\")\n",
        "  if f.mode==\"r\":\n",
        "    x=f.read()\n",
        "    lst=list(x)\n",
        "  for i in lst:\n",
        "    if i.isupper():\n",
        "      cntupper+=1\n",
        "    return cntupper\n",
        "uppercasecharacter(\"file1.txt\")  \n",
        "  \n"
      ],
      "execution_count": 0,
      "outputs": [
        {
          "output_type": "execute_result",
          "data": {
            "text/plain": [
              "1"
            ]
          },
          "metadata": {
            "tags": []
          },
          "execution_count": 38
        }
      ]
    },
    {
      "cell_type": "code",
      "metadata": {
        "id": "xl3LLYCAnKv2",
        "colab_type": "code",
        "outputId": "2eeaa8f2-90d0-41c7-b3e3-d1cb5dfbfe7b",
        "colab": {
          "base_uri": "https://localhost:8080/",
          "height": 34
        }
      },
      "source": [
        "#Function to count of lines in given file\n",
        "def readfile(filename):\n",
        "  f=open(filename,\"r\")\n",
        "  if f.mode==\"r\":\n",
        "    x=f.read()\n",
        "    lst=x.split(\"\\n\")\n",
        "  f.close()\n",
        "  return len(lst)\n",
        "readfile(\"file1.txt\")"
      ],
      "execution_count": 0,
      "outputs": [
        {
          "output_type": "execute_result",
          "data": {
            "text/plain": [
              "22"
            ]
          },
          "metadata": {
            "tags": []
          },
          "execution_count": 50
        }
      ]
    },
    {
      "cell_type": "code",
      "metadata": {
        "id": "h8iq-V5VqFRw",
        "colab_type": "code",
        "colab": {}
      },
      "source": [
        "#Regular Expression for Indian mobile number\n",
        "# Validation for EmailID username@domianname.extension\n",
        "# 9876543210---First digit [6-9][0-9]\n",
        "#09876543210---First digit []"
      ],
      "execution_count": 0,
      "outputs": []
    },
    {
      "cell_type": "code",
      "metadata": {
        "id": "ugdPKDJrInnp",
        "colab_type": "code",
        "outputId": "477bcdce-1243-4faf-dc61-0d07528b1c40",
        "colab": {
          "base_uri": "https://localhost:8080/",
          "height": 84
        }
      },
      "source": [
        "import re\n",
        "def phonenumbervalidate(phone):\n",
        "  pattern='^[6-9][0-9]{9}$|^[+][9][1][6-9][0-9]{9}$|^[0][6-9][0-9]{9}$'\n",
        "  phone=str(phone)\n",
        "  if re.match(pattern,phone):\n",
        "    return True\n",
        "  return False\n",
        "print(phonenumbervalidate(\"9966338855\"))\n",
        "print(phonenumbervalidate(\"99663388\"))\n",
        "print(phonenumbervalidate(\"09966338855\"))\n",
        "print(phonenumbervalidate(\"+919966338855\"))\n",
        "  "
      ],
      "execution_count": 0,
      "outputs": [
        {
          "output_type": "stream",
          "text": [
            "True\n",
            "False\n",
            "True\n",
            "True\n"
          ],
          "name": "stdout"
        }
      ]
    },
    {
      "cell_type": "code",
      "metadata": {
        "id": "Q0w9zlVsKZJE",
        "colab_type": "code",
        "outputId": "77eb1b86-3aaf-4131-c737-f1a1921a810b",
        "colab": {
          "base_uri": "https://localhost:8080/",
          "height": 50
        }
      },
      "source": [
        "import re\n",
        "def rollnumbervalidate(number):\n",
        "  pattern='^[2][2][1][8][1][0][3][0][0-9][0][0-9][0-9]$'\n",
        "  roll=str(number)\n",
        "  if re.match(pattern,number):\n",
        "    return True\n",
        "  return False\n",
        "print(rollnumbervalidate(\"221810307047\"))\n",
        "print(rollnumbervalidate(\"99663388\"))"
      ],
      "execution_count": 0,
      "outputs": [
        {
          "output_type": "stream",
          "text": [
            "False\n",
            "False\n"
          ],
          "name": "stdout"
        }
      ]
    },
    {
      "cell_type": "code",
      "metadata": {
        "id": "i3i0jefuQj68",
        "colab_type": "code",
        "outputId": "96175dae-4ed0-444a-e393-b6f4e9a634a0",
        "colab": {
          "base_uri": "https://localhost:8080/",
          "height": 50
        }
      },
      "source": [
        "import re\n",
        "def validateEmailID(email):\n",
        "  pattern=\"^[0-9a-z][0-9a-z_.]{4,13}[0-9a-z][@][a-z0-9]{3,18}[.][a-z]{2,4}$\" \n",
        "  if re.match(pattern,email):\n",
        "    return True\n",
        "  return False\n",
        "print(validateEmailID(\"anil.1889@gmail.com\"))\n",
        "print(validateEmailID(\"$anil.1889@gmail.com\"))"
      ],
      "execution_count": 0,
      "outputs": [
        {
          "output_type": "stream",
          "text": [
            "True\n",
            "False\n"
          ],
          "name": "stdout"
        }
      ]
    },
    {
      "cell_type": "code",
      "metadata": {
        "id": "KO4nYteeWy2K",
        "colab_type": "code",
        "outputId": "814927df-1fba-480f-a736-5a74eb7698e5",
        "colab": {
          "base_uri": "https://localhost:8080/",
          "height": 50
        }
      },
      "source": [
        "import re\n",
        "def validatepassword(s):\n",
        "  pattern=\"^[a-zA-Z0-9@!#$]{6,15}$\"\n",
        "  if re.match(pattern,s):\n",
        "    return True\n",
        "  return False\n",
        "print(validatepassword(\"qwer@0987\"))\n",
        "print(validatepassword(\"zxcv@1234\"))"
      ],
      "execution_count": 0,
      "outputs": [
        {
          "output_type": "stream",
          "text": [
            "True\n",
            "True\n"
          ],
          "name": "stdout"
        }
      ]
    },
    {
      "cell_type": "markdown",
      "metadata": {
        "id": "6FSeaMW0wFeJ",
        "colab_type": "text"
      },
      "source": [
        "###Assiginment"
      ]
    },
    {
      "cell_type": "code",
      "metadata": {
        "id": "Tpz5Ju4XcaP-",
        "colab_type": "code",
        "outputId": "34772fdc-a10d-4593-eb2f-fa7ad5aa6af5",
        "colab": {
          "base_uri": "https://localhost:8080/",
          "height": 34
        }
      },
      "source": [
        "#Function to create file and write some data\n",
        "def createfile(filename):\n",
        "  f=open(filename,'a')\n",
        "  for i in range(10):\n",
        "    f.write(\"This is %d line\\n\"%i)\n",
        "  print(\"File is created successfully and data is written\")\n",
        "  f.close()\n",
        "  return\n",
        "createfile(\"file1.txt\")\n"
      ],
      "execution_count": 0,
      "outputs": [
        {
          "output_type": "stream",
          "text": [
            "File is created successfully and data is written\n"
          ],
          "name": "stdout"
        }
      ]
    },
    {
      "cell_type": "code",
      "metadata": {
        "id": "URSBTmxJwPWW",
        "colab_type": "code",
        "outputId": "9424e1b6-d459-48e6-9901-c2cad7a8a849",
        "colab": {
          "base_uri": "https://localhost:8080/",
          "height": 554
        }
      },
      "source": [
        "#Function for reading file data\n",
        "def readfile(filename):\n",
        "  f=open(filename,\"r\")\n",
        "  if f.mode ==\"r\":\n",
        "    x=f.read()\n",
        "    print(x)\n",
        "  f.close()\n",
        "  return\n",
        "readfile(\"file1.txt\")"
      ],
      "execution_count": 0,
      "outputs": [
        {
          "output_type": "stream",
          "text": [
            "This is 0 Line\n",
            "This is 1 Line\n",
            "This is 2 Line\n",
            "This is 3 Line\n",
            "This is 4 Line\n",
            "This is 5 Line\n",
            "This is 6 Line\n",
            "This is 7 Line\n",
            "This is 8 Line\n",
            "This is 9 Line\n",
            "New line 1\n",
            "New lineNew line 1\n",
            "New line 2\n",
            "New line 1\n",
            "New line 2\n",
            "New line 1\n",
            "New line 2\n",
            "New line 1\n",
            "New line 2\n",
            "New line 1\n",
            "New line 2\n",
            "This is 0 line\n",
            "This is 1 line\n",
            "This is 2 line\n",
            "This is 3 line\n",
            "This is 4 line\n",
            "This is 5 line\n",
            "This is 6 line\n",
            "This is 7 line\n",
            "This is 8 line\n",
            "This is 9 line\n",
            "\n"
          ],
          "name": "stdout"
        }
      ]
    },
    {
      "cell_type": "code",
      "metadata": {
        "id": "wmYBNl9CwVxy",
        "colab_type": "code",
        "outputId": "35f74501-8e9d-4556-b8f3-65b1bbf30c37",
        "colab": {
          "base_uri": "https://localhost:8080/",
          "height": 34
        }
      },
      "source": [
        "#Function to count the Lower case character from the given file\n",
        "def lowercasecount(filename):\n",
        "  cntLower=0\n",
        "  f=open(filename)\n",
        "  if f.mode==\"r\":\n",
        "    x=f.read()\n",
        "    lst=list(x)\n",
        "  for i in lst:\n",
        "    if i.islower():\n",
        "      cntLower+=1\n",
        "  return cntLower\n",
        "lowercasecount(\"file1.txt\")\n"
      ],
      "execution_count": 0,
      "outputs": [
        {
          "output_type": "execute_result",
          "data": {
            "text/plain": [
              "242"
            ]
          },
          "metadata": {
            "tags": []
          },
          "execution_count": 89
        }
      ]
    },
    {
      "cell_type": "code",
      "metadata": {
        "id": "JrnNtmZowdiV",
        "colab_type": "code",
        "outputId": "c05ecdcb-3276-4c2d-8a69-fe067c2c38b9",
        "colab": {
          "base_uri": "https://localhost:8080/",
          "height": 34
        }
      },
      "source": [
        "def countdigit(filename):\n",
        "  f=open(filename,\"r\")\n",
        "  if f.mode==\"r\":\n",
        "    x=f.read()\n",
        "    lst=x.split(\"\\n\")\n",
        "  return len(lst)\n",
        "countdigit(\"file1.txt\")\n"
      ],
      "execution_count": 0,
      "outputs": [
        {
          "output_type": "execute_result",
          "data": {
            "text/plain": [
              "32"
            ]
          },
          "metadata": {
            "tags": []
          },
          "execution_count": 90
        }
      ]
    },
    {
      "cell_type": "code",
      "metadata": {
        "id": "nnzpghcwwg-7",
        "colab_type": "code",
        "outputId": "c0c381b7-6f0b-425b-e703-483968806bc4",
        "colab": {
          "base_uri": "https://localhost:8080/",
          "height": 34
        }
      },
      "source": [
        "#validation of roll number\n",
        "import re\n",
        "def Namevalidate(name):\n",
        "  pattern='^[a-zA-Z]{4,16}$'\n",
        "  Name=str(name)\n",
        "  if re.match(pattern,Name):\n",
        "    return True\n",
        "  return False\n",
        "print(Namevalidate(\"mahi\"))\n"
      ],
      "execution_count": 0,
      "outputs": [
        {
          "output_type": "stream",
          "text": [
            "True\n"
          ],
          "name": "stdout"
        }
      ]
    },
    {
      "cell_type": "code",
      "metadata": {
        "id": "Rm0MUvz7wlhf",
        "colab_type": "code",
        "outputId": "2472874d-892e-4627-e163-bbaaffd4262d",
        "colab": {
          "base_uri": "https://localhost:8080/",
          "height": 84
        }
      },
      "source": [
        "import re\n",
        "def phnumbervalidate(phone):\n",
        "  pattern='^[6-9][0-9]{9}$|^[0][6-9][0-9]{9}$|^[+][9][1][6-9][0-9]{9}$'\n",
        "  phone=str(phone)\n",
        "  if re.match(pattern,phone):\n",
        "    return True\n",
        "  return False\n",
        "print(phnumbervalidate(9988776655))\n",
        "print(phnumbervalidate(98765436))\n",
        "print(phnumbervalidate(\"09988776655\"))\n",
        "print(phnumbervalidate(\"+919988776655\"))\n",
        "\n"
      ],
      "execution_count": 0,
      "outputs": [
        {
          "output_type": "stream",
          "text": [
            "True\n",
            "False\n",
            "True\n",
            "True\n"
          ],
          "name": "stdout"
        }
      ]
    },
    {
      "cell_type": "code",
      "metadata": {
        "id": "AkJKbGa4wsHm",
        "colab_type": "code",
        "outputId": "0d39edf0-d206-4f4e-8e67-088fd9ca3c14",
        "colab": {
          "base_uri": "https://localhost:8080/",
          "height": 34
        }
      },
      "source": [
        "#validation of roll number\n",
        "import re\n",
        "def rollnumbervalidate(phone):\n",
        "  pattern='^[2][2][1][8][1][0][3][0][0-9][0][0-9][0-9]$'\n",
        "  phone=str(phone)\n",
        "  if re.match(pattern,phone):\n",
        "    return True\n",
        "  return False\n",
        "print(rollnumbervalidate(221810307036))"
      ],
      "execution_count": 0,
      "outputs": [
        {
          "output_type": "stream",
          "text": [
            "True\n"
          ],
          "name": "stdout"
        }
      ]
    },
    {
      "cell_type": "code",
      "metadata": {
        "id": "56cY2A7hw0AM",
        "colab_type": "code",
        "outputId": "072afecf-7097-4608-e9c5-ac819ea87161",
        "colab": {
          "base_uri": "https://localhost:8080/",
          "height": 34
        }
      },
      "source": [
        "#validation of Emailid\n",
        "import re\n",
        "def Emailvalidate(email):\n",
        "  pattern='^[0-9a-z][0-9a-z_.]{4,13}[0-9a-z][@][a-z0-9]{3,18}[.][a-z]{2,4}$'\n",
        "  phone=str(email)\n",
        "  if re.match(pattern,email):\n",
        "    return True\n",
        "  return False\n",
        "print(Emailvalidate(\"mahisidda7@gmail.com\"))\n"
      ],
      "execution_count": 0,
      "outputs": [
        {
          "output_type": "stream",
          "text": [
            "True\n"
          ],
          "name": "stdout"
        }
      ]
    },
    {
      "cell_type": "code",
      "metadata": {
        "id": "XyUXxzFVw50U",
        "colab_type": "code",
        "outputId": "a6336337-4c40-44e3-c058-588b8504a563",
        "colab": {
          "base_uri": "https://localhost:8080/",
          "height": 34
        }
      },
      "source": [
        "#Validation of password\n",
        "import re\n",
        "def PSvalidate(password):\n",
        "  pattern='^[a-zA-Z0-9@%*!#$]{6,15}$'\n",
        "  phone=str(password)\n",
        "  if re.match(pattern,password):\n",
        "    return True\n",
        "  return False\n",
        "print(PSvalidate(\"hiure#123\"))"
      ],
      "execution_count": 0,
      "outputs": [
        {
          "output_type": "stream",
          "text": [
            "True\n"
          ],
          "name": "stdout"
        }
      ]
    }
  ]
}