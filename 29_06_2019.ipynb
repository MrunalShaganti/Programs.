{
  "nbformat": 4,
  "nbformat_minor": 0,
  "metadata": {
    "colab": {
      "name": "29-06-2019.ipynb",
      "version": "0.3.2",
      "provenance": []
    },
    "kernelspec": {
      "name": "python3",
      "display_name": "Python 3"
    }
  },
  "cells": [
    {
      "cell_type": "code",
      "metadata": {
        "id": "7R36UhheG1K9",
        "colab_type": "code",
        "outputId": "3dc69b75-df90-4e7f-aa96-a706fd8584ec",
        "colab": {
          "base_uri": "https://localhost:8080/",
          "height": 134
        }
      },
      "source": [
        "import pandas as pd\n",
        "a=pd.Series([1,3,4,5,6,7])\n",
        "print(a)"
      ],
      "execution_count": 0,
      "outputs": [
        {
          "output_type": "stream",
          "text": [
            "0    1\n",
            "1    3\n",
            "2    4\n",
            "3    5\n",
            "4    6\n",
            "5    7\n",
            "dtype: int64\n"
          ],
          "name": "stdout"
        }
      ]
    },
    {
      "cell_type": "code",
      "metadata": {
        "id": "ypmQ75tdKG3x",
        "colab_type": "code",
        "outputId": "31e4a6ea-a88d-40e8-e943-373ad9624ccd",
        "colab": {
          "base_uri": "https://localhost:8080/",
          "height": 134
        }
      },
      "source": [
        "#Missing values then it can be nan of numpy\n",
        "import numpy as np\n",
        "a1=pd.Series([1,2,3,4,np.nan,6])\n",
        "print(a1)"
      ],
      "execution_count": 0,
      "outputs": [
        {
          "output_type": "stream",
          "text": [
            "0    1.0\n",
            "1    2.0\n",
            "2    3.0\n",
            "3    4.0\n",
            "4    NaN\n",
            "5    6.0\n",
            "dtype: float64\n"
          ],
          "name": "stdout"
        }
      ]
    },
    {
      "cell_type": "code",
      "metadata": {
        "id": "h8l-CwlRLGQa",
        "colab_type": "code",
        "outputId": "4373ed57-d8d6-4eae-8b65-da43727279e1",
        "colab": {
          "base_uri": "https://localhost:8080/",
          "height": 118
        }
      },
      "source": [
        "#Create a list of dates with in particular range\n",
        "\n",
        "dates=pd.date_range('20190601',periods=20)\n",
        "print(dates)"
      ],
      "execution_count": 0,
      "outputs": [
        {
          "output_type": "stream",
          "text": [
            "DatetimeIndex(['2019-06-01', '2019-06-02', '2019-06-03', '2019-06-04',\n",
            "               '2019-06-05', '2019-06-06', '2019-06-07', '2019-06-08',\n",
            "               '2019-06-09', '2019-06-10', '2019-06-11', '2019-06-12',\n",
            "               '2019-06-13', '2019-06-14', '2019-06-15', '2019-06-16',\n",
            "               '2019-06-17', '2019-06-18', '2019-06-19', '2019-06-20'],\n",
            "              dtype='datetime64[ns]', freq='D')\n"
          ],
          "name": "stdout"
        }
      ]
    },
    {
      "cell_type": "code",
      "metadata": {
        "id": "l08IrowQMSW7",
        "colab_type": "code",
        "outputId": "189a80f1-0356-4b9d-e4b1-f2add581f677",
        "colab": {
          "base_uri": "https://localhost:8080/",
          "height": 67
        }
      },
      "source": [
        "lst=pd.date_range('20190601',periods=5)\n",
        "print(lst)"
      ],
      "execution_count": 0,
      "outputs": [
        {
          "output_type": "stream",
          "text": [
            "DatetimeIndex(['2019-06-01', '2019-06-02', '2019-06-03', '2019-06-04',\n",
            "               '2019-06-05'],\n",
            "              dtype='datetime64[ns]', freq='D')\n"
          ],
          "name": "stdout"
        }
      ]
    },
    {
      "cell_type": "code",
      "metadata": {
        "id": "-vRh-YyqO4zE",
        "colab_type": "code",
        "colab": {}
      },
      "source": [
        "a2=pd.DataFrame(pd.data_range)"
      ],
      "execution_count": 0,
      "outputs": []
    },
    {
      "cell_type": "code",
      "metadata": {
        "id": "CUtFfHPrPjK_",
        "colab_type": "code",
        "outputId": "af6d1e95-d07f-4979-e972-71ed06c2d838",
        "colab": {
          "base_uri": "https://localhost:8080/",
          "height": 101
        }
      },
      "source": [
        "a3=pd.DataFrame({'A':1,\n",
        "                 'B':pd.Timestamp('20190601'),\n",
        "                 'C':pd.Series(1,index=list(range(4)),dtype='float32'),\n",
        "                 'D':np.array([3]*4,dtype='int32'),\n",
        "                 'E':pd.Categorical([\"test\",\"train\",\"test\",\"train\"]),\n",
        "                 'F':'foo'})\n",
        "print(a3)"
      ],
      "execution_count": 0,
      "outputs": [
        {
          "output_type": "stream",
          "text": [
            "   A          B    C  D      E    F\n",
            "0  1 2019-06-01  1.0  3   test  foo\n",
            "1  1 2019-06-01  1.0  3  train  foo\n",
            "2  1 2019-06-01  1.0  3   test  foo\n",
            "3  1 2019-06-01  1.0  3  train  foo\n"
          ],
          "name": "stdout"
        }
      ]
    },
    {
      "cell_type": "code",
      "metadata": {
        "id": "DWD1ZUmFR5u7",
        "colab_type": "code",
        "colab": {}
      },
      "source": [
        "#Turtle is a python featrue like drawing board \n",
        "#Lines,Squares,Star,Rect and etc\n",
        "#Turtle()--It creates and returns a new turtle object"
      ],
      "execution_count": 0,
      "outputs": []
    },
    {
      "cell_type": "code",
      "metadata": {
        "id": "8xJjGHxpS1if",
        "colab_type": "code",
        "colab": {}
      },
      "source": [
        "#Step 1:Make all the turtle package to be imported\n",
        "import turtle as tt\n",
        "a1=tt.Turtle()\n",
        "#forward() method moves 100 pixels\n",
        "tt.forward(100)\n",
        "#We are done\n",
        "tt.done()"
      ],
      "execution_count": 0,
      "outputs": []
    },
    {
      "cell_type": "code",
      "metadata": {
        "id": "h5Hs6tAMUr4D",
        "colab_type": "code",
        "colab": {}
      },
      "source": [
        "import turtle as tt\n",
        "\n",
        "a1=tt.Turtle()\n",
        "\n",
        "for x in range(40):\n",
        "  a1.forward(50)\n",
        "  a1.right(144)\n",
        "  \n",
        "  tt.done()"
      ],
      "execution_count": 0,
      "outputs": []
    },
    {
      "cell_type": "code",
      "metadata": {
        "id": "cqpp8vdgbzSV",
        "colab_type": "code",
        "colab": {}
      },
      "source": [
        "#Spiraling star\n",
        "import turtle as tt\n",
        "\n",
        "a1=tt.Turtle()\n",
        "\n",
        "for i in range(20):\n",
        "  a1.forward(i*10)\n",
        "  a1.right(144)\n",
        "tt.done()"
      ],
      "execution_count": 0,
      "outputs": []
    },
    {
      "cell_type": "code",
      "metadata": {
        "id": "eavkgCgEctfY",
        "colab_type": "code",
        "colab": {}
      },
      "source": [
        "import turtle as tt\n",
        "\n",
        "a1=tt.Turtle()\n",
        "a1.pencolour(\"blue\")\n",
        "\n",
        "for i in range(20):\n",
        "  a1.forward(i*10)\n",
        "  a1.right(144)\n",
        "tt.done()"
      ],
      "execution_count": 0,
      "outputs": []
    },
    {
      "cell_type": "code",
      "metadata": {
        "id": "mHjc-gUdeSXs",
        "colab_type": "code",
        "colab": {}
      },
      "source": [
        "import turtle as tt\n",
        "c1=tt.Turtle()\n",
        "c1.pencolor(\"blue\")\n",
        "for i in range(50):\n",
        "  c1.forward(100)\n",
        "  c1.left(123)\n",
        "  \n",
        "c1.pencolor(\"red\")\n",
        "for i in range(50):\n",
        "  c1.forward(100)\n",
        "  c1.left(123)\n",
        "  \n",
        "tt.done()  "
      ],
      "execution_count": 0,
      "outputs": []
    },
    {
      "cell_type": "code",
      "metadata": {
        "id": "GVS0BU0zfFSQ",
        "colab_type": "code",
        "colab": {}
      },
      "source": [
        "import turtle as tt\n",
        "colors=[\"red\",\"blue\",\"orange\",\"green\",\"yellow\",\"purple\"]\n",
        "\n",
        "a1=tt.Turtle()\n",
        "\n",
        "for x in range(360):\n",
        "  a1.pencolor(colors[x%6])\n",
        "  a1.width(x/100+1)\n",
        "  a1.forward(x)\n",
        "  a1.left(59)\n",
        "  \n",
        "tt.done()  \n",
        "  "
      ],
      "execution_count": 0,
      "outputs": []
    },
    {
      "cell_type": "code",
      "metadata": {
        "id": "mJkl06SMhn3G",
        "colab_type": "code",
        "colab": {}
      },
      "source": [
        "import turtle as tt\n",
        "colors=[\"red\",\"green\",\"yellow\",\"orange\",\"blue\",\"purple\"]\n",
        "dot_distance=10\n",
        "width=10\n",
        "height=15\n",
        "\n",
        "a1.penup()\n",
        "\n",
        "for x in range(height):\n",
        "  a1.pencolor(colors[x%6])\n",
        "  for i in range(width):\n",
        "    a1.dot()\n",
        "    a1.forward(dot_distance)\n",
        "  a1.forward(dot_distance*width)\n",
        "  a1.right(90)\n",
        "  a1.forward(dot_distance)\n",
        "  a1.left(90)\n",
        "  \n",
        "tt.done()  "
      ],
      "execution_count": 0,
      "outputs": []
    },
    {
      "cell_type": "code",
      "metadata": {
        "id": "2lClPQp35M4u",
        "colab_type": "code",
        "colab": {}
      },
      "source": [
        "from turtle import *\n",
        "import random\n",
        "for n in range(50):\n",
        "  penup()\n",
        "  goto(random.randint(-400,400),random.randint(-400,400))\n",
        "  pemdown()\n",
        "  \n",
        "  red_amount=random.randint(0,30)/100.0\n",
        "  blue_amount=random.randint(50,100)/100.0\n",
        "  green_amount=random.randint(0,30)/100.0\n",
        "  \n",
        "  pemcolor((red_amount,blue_amount,grenn_amount))\n",
        "  \n",
        "  circle_size=random.randint(10,40)\n",
        "  pensize(random.randint(4,6))\n",
        "  \n",
        "  for i in range(6):\n",
        "    circle(circle_size)\n",
        "    left(60)\n",
        "    "
      ],
      "execution_count": 0,
      "outputs": []
    },
    {
      "cell_type": "code",
      "metadata": {
        "id": "lwsbR2JD9HFw",
        "colab_type": "code",
        "colab": {}
      },
      "source": [
        "from turtle import *\n",
        "\n",
        "def main():\n",
        "  colors=(\"red\",\"orange\",\"yellow\",\"green\",\"blue\",\"seagreen\",\"royalblue\")\n",
        "  reset()\n",
        "  Screen()\n",
        "  up()\n",
        "  goto(-320,-195)\n",
        "  width(90)\n",
        "  for pcolor in colors:\n",
        "    color(pcolor)\n",
        "    down()\n",
        "    forward(640)\n",
        "    up()\n",
        "    backward(640)\n",
        "    left(90)\n",
        "    foeward(66)\n",
        "    right(90)\n",
        "    \n",
        "width(55)\n",
        "goto(0,-170)\n",
        "color(\"white\")\n",
        "down()\n",
        "\n",
        "circle(170)\n",
        "left(90)\n",
        "forward(340)\n",
        "up()\n",
        "left(180)\n",
        "forward(170)\n",
        "right(45)\n",
        "down()\n",
        "forward(170)\n",
        "up()\n",
        "backward(170)\n",
        "left(90)\n",
        "down()\n",
        "forward(170)\n",
        "up()\n",
        "goto(0,300)\n",
        "\n",
        "if __name__=='main':\n",
        "  main()\n",
        "  mainloop()"
      ],
      "execution_count": 0,
      "outputs": []
    },
    {
      "cell_type": "code",
      "metadata": {
        "id": "20gk64GGDQBl",
        "colab_type": "code",
        "colab": {}
      },
      "source": [
        "from turtle import *\n",
        "\n",
        "N=80\n",
        "\n",
        "def f(x):\n",
        "  return 3.9*x*(1-x)\n",
        "def g(x):\n",
        "  return 3.9*(x-x**2)\n",
        "def h(x):\n",
        "  return 3.9*x-3.9*x*x\n",
        "def jumpto(x,y):\n",
        "  penup()\n",
        "  goto(x,y)\n",
        "  \n",
        "def line(x1,y1,x2,y2):\n",
        "  jumpto(x1,y1)\n",
        "  pendown()\n",
        "  jumpto(x2,y2)\n",
        "  \n",
        "def coasys():\n",
        "  line(-1,0,N+1,0)\n",
        "  line(0,-0-1,0,1.1)\n",
        "  \n",
        "def plot(fun,start,color):\n",
        "  pencolor(color)\n",
        "  x=start\n",
        "  jumpto(0,x)\n",
        "  pendown()\n",
        "  dot(5)\n",
        "  for i in range(N):\n",
        "    x=start\n",
        "    "
      ],
      "execution_count": 0,
      "outputs": []
    }
  ]
}