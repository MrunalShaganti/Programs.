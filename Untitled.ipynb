{
  "nbformat": 4,
  "nbformat_minor": 0,
  "metadata": {
    "colab": {
      "name": "Untitled",
      "version": "0.3.2",
      "provenance": [],
      "collapsed_sections": []
    },
    "kernelspec": {
      "name": "python3",
      "display_name": "Python 3"
    }
  },
  "cells": [
    {
      "cell_type": "code",
      "metadata": {
        "id": "00chhlDmjbtT",
        "colab_type": "code",
        "outputId": "67c4cd4b-8918-4750-93b8-a39a382b1c57",
        "colab": {
          "base_uri": "https://localhost:8080/",
          "height": 34
        }
      },
      "source": [
        "x=0\n",
        "if(x<0):\n",
        "  print(\"It's a negative number\");\n",
        "elif(x>0):\n",
        "  print(\"It's a positive number\");\n",
        "elif(x==0):\n",
        "  print(\"It's a zero\");"
      ],
      "execution_count": 0,
      "outputs": [
        {
          "output_type": "stream",
          "text": [
            "It's a zero\n"
          ],
          "name": "stdout"
        }
      ]
    },
    {
      "cell_type": "code",
      "metadata": {
        "id": "kq7CIsZgov-j",
        "colab_type": "code",
        "colab": {}
      },
      "source": [
        "x=int(input(\"Enter lower limit\"));\n",
        "y=int(input(\"Enter upper limit\"));\n",
        "sum=0;\n",
        "while(x!=y):\n",
        "  if(x%2==0):\n",
        "    sum=sum+x;\n",
        "  x=x+1; \n",
        "print(sum);"
      ],
      "execution_count": 0,
      "outputs": []
    },
    {
      "cell_type": "code",
      "metadata": {
        "id": "-B3MrMdvsja2",
        "colab_type": "code",
        "colab": {}
      },
      "source": [
        "n=int(input(\"Enter a number\"));\n",
        "while(n!=0):\n",
        "  r=n%10;\n",
        "  print(r);\n",
        "  n=n//10;"
      ],
      "execution_count": 0,
      "outputs": []
    },
    {
      "cell_type": "code",
      "metadata": {
        "id": "zFwQAM322GWg",
        "colab_type": "code",
        "colab": {}
      },
      "source": [
        "x=int(input(\"Enter a number\"));\n",
        "sum=0;\n",
        "while(x!=0):\n",
        "  r=x%10;\n",
        "  x=x//10;\n",
        "  if(r%2==0):\n",
        "    sum=sum+r;\n",
        "print(sum);"
      ],
      "execution_count": 0,
      "outputs": []
    },
    {
      "cell_type": "code",
      "metadata": {
        "id": "74huyqIi6bKN",
        "colab_type": "code",
        "colab": {}
      },
      "source": [
        "n=int(input(\"Enter a number\"));\n",
        "while(n!=0):\n",
        "  r=n%10;\n",
        "  n=n//10;\n",
        "  if(r==0):\n",
        "    print(\"ZERO\");\n",
        "  elif(r==1):\n",
        "    print(\"ONE\");\n",
        "  elif(r==2):\n",
        "    print(\"TWO\");  \n",
        "  elif(r==3):\n",
        "    print(\"THREE\");\n",
        "  elif(r==4):\n",
        "    print(\"FOUR\");\n",
        "  elif(r==5):\n",
        "    print(\"FIVE\");\n",
        "  elif(r==6):\n",
        "    print(\"SIX\"); \n",
        "  elif(r==7):\n",
        "    print(\"SEVEN\");\n",
        "  elif(r==8):\n",
        "    print(\"EIGHT\"); \n",
        "  elif(r==9):\n",
        "    print(\"NINE\");  "
      ],
      "execution_count": 0,
      "outputs": []
    },
    {
      "cell_type": "code",
      "metadata": {
        "id": "5Kk7TiEkA5aQ",
        "colab_type": "code",
        "colab": {}
      },
      "source": [
        "x=int(input(\"Enter a number\"));\n",
        "y=int(input(\"Enter a number\"));\n",
        "z=int(input(\"Enter a number\"));\n",
        "count=0;\n",
        "while(y!=z):\n",
        "  temp=y;\n",
        "  while(y!=0):\n",
        "    r=y%10;\n",
        "    if(r==x):\n",
        "      count=count+1;\n",
        "    y=y//10;\n",
        "  y=+temp;\n",
        "  y=y+1;\n",
        "print(count);"
      ],
      "execution_count": 0,
      "outputs": []
    },
    {
      "cell_type": "code",
      "metadata": {
        "id": "ZjW82Dc6dZB3",
        "colab_type": "code",
        "colab": {}
      },
      "source": [
        ""
      ],
      "execution_count": 0,
      "outputs": []
    },
    {
      "cell_type": "code",
      "metadata": {
        "id": "V_xClPmQdaau",
        "colab_type": "code",
        "colab": {}
      },
      "source": [
        "def printNNaturalNumbers(n):\n",
        "  count=1;\n",
        "  while(count<=n):\n",
        "    print(count,end=\" \");\n",
        "    count=count+1;\n",
        "    \n",
        "  print()\n",
        "  return\n",
        "printNNaturalNumbers(9);\n",
        "printNNaturalNumbers(15); "
      ],
      "execution_count": 0,
      "outputs": []
    },
    {
      "cell_type": "code",
      "metadata": {
        "id": "8fFCYj39fvbh",
        "colab_type": "code",
        "colab": {}
      },
      "source": [
        "def findfact(n):\n",
        "  fact=1;\n",
        "  while(n!=0):\n",
        "     fact=fact*n;\n",
        "     n=n-1;\n",
        "  return fact;\n",
        "print(findfact(5));\n",
        "print(findfact(10));\n",
        "print(findfact(20));"
      ],
      "execution_count": 0,
      "outputs": []
    },
    {
      "cell_type": "code",
      "metadata": {
        "id": "cyxMJSSEjoEs",
        "colab_type": "code",
        "colab": {}
      },
      "source": [
        "def countofpalindrome(x,y):\n",
        "  count=0;\n",
        "  while(x!=y):\n",
        "    temp=x;\n",
        "    sum=0;\n",
        "  while(x!=0):\n",
        "    r=x%10;\n",
        "    sum=sum*10+r;\n",
        "    x=x//10;\n",
        "    x=temp;\n",
        "  if(temp==sum):\n",
        "    count=count+1;\n",
        "    print(count);\n",
        "  \n",
        "  \n",
        "  \n",
        "  return count;\n",
        "print(countofpalindrome(10,30));"
      ],
      "execution_count": 0,
      "outputs": []
    },
    {
      "cell_type": "code",
      "metadata": {
        "id": "mLrHPvJbpY5X",
        "colab_type": "code",
        "colab": {}
      },
      "source": [
        "def printEven(n):\n",
        "  count=0;\n",
        "  sum=0;\n",
        "  while(count!=n):\n",
        "    if(count%2==0):\n",
        "      sum=sum+count;\n",
        "    count=count+1;\n",
        "  return sum;  \n",
        "print(printEven(20));    "
      ],
      "execution_count": 0,
      "outputs": []
    },
    {
      "cell_type": "code",
      "metadata": {
        "id": "cnp04z1qr8yt",
        "colab_type": "code",
        "colab": {}
      },
      "source": [
        "def factorlist(n):\n",
        "  i=1;\n",
        "  while(i!=n):\n",
        "    if(n%i==0):\n",
        "      print(i,end=\" \");\n",
        "    i=i+1;\n",
        "  return;\n",
        "factorlist(12);"
      ],
      "execution_count": 0,
      "outputs": []
    },
    {
      "cell_type": "code",
      "metadata": {
        "id": "wa-Bf4cIvsmZ",
        "colab_type": "code",
        "colab": {}
      },
      "source": [
        "list1=[1,2,3,4,5];\n",
        "#Entire List\n",
        "print(list1);\n",
        "#List[0]\n",
        "print(list1[0]);"
      ],
      "execution_count": 0,
      "outputs": []
    },
    {
      "cell_type": "code",
      "metadata": {
        "id": "FOAElBBkxBwx",
        "colab_type": "code",
        "colab": {}
      },
      "source": [
        "list2=[\"Inshallah\",\"boys\",\"played\",\"well\"];\n",
        "for x in list2:\n",
        "  print(x,end=\" \");\n",
        "  "
      ],
      "execution_count": 0,
      "outputs": []
    },
    {
      "cell_type": "code",
      "metadata": {
        "id": "lSe03IoxyZyL",
        "colab_type": "code",
        "colab": {}
      },
      "source": [
        "list1=[1,2,3,4,5,6,7,8];\n",
        "for x in list1:\n",
        "  print(x,end=\" \");\n",
        "print();\n",
        "print(list1[4]); \n",
        "print(list1[2:7]);\n",
        "print(list1[0:3]);\n",
        "print(list1[:7]);\n",
        "print(list1[0:]);"
      ],
      "execution_count": 0,
      "outputs": []
    },
    {
      "cell_type": "code",
      "metadata": {
        "id": "btrLJH5m04tD",
        "colab_type": "code",
        "colab": {}
      },
      "source": [
        "list1=[1,2,3,4,5,6,7,8,9,10];\n",
        "for x in list1:\n",
        "  print(x,end=\" \");\n",
        " \n",
        "print();\n",
        "print(list1[1:-1]);\n",
        "print(list1[3:-3]);\n",
        "print(list1[::2]);\n",
        "print(list1[::3]);\n",
        "print(list1[::-3]);"
      ],
      "execution_count": 0,
      "outputs": []
    },
    {
      "cell_type": "code",
      "metadata": {
        "id": "XC1MoFNF11cR",
        "colab_type": "code",
        "colab": {}
      },
      "source": [
        "def linearsearch(a,taritem):\n",
        "  flag=0;\n",
        "for i in range(len(a)):\n",
        "  if(a[i]==taritem):\n",
        "    flag=1;\n",
        "    break;\n",
        "  if(flag!=0):\n",
        "    print(\"Target item found\");\n",
        "  else:\n",
        "    print(\"Target item not found\");\n",
        "  a=[9,1,6,1,5,9,15,16];\n",
        "  linearsearch(a,6);\n"
      ],
      "execution_count": 0,
      "outputs": []
    },
    {
      "cell_type": "code",
      "metadata": {
        "id": "GVsznRmDWTzA",
        "colab_type": "code",
        "colab": {}
      },
      "source": [
        "def linearsearchduplicate(a,taritem):\n",
        "  flag=0\n",
        "  for i in range(len(a)):\n",
        "    if(a[i]==taritem):\n",
        "      flag=flag+1\n",
        "  \n",
        "  print(flag)   \n",
        "  \n",
        "a=[9,1,6,1,5,9,15,16]\n",
        "linearsearchduplicate(a,9)"
      ],
      "execution_count": 0,
      "outputs": []
    },
    {
      "cell_type": "code",
      "metadata": {
        "id": "20NJXf4wrg8K",
        "colab_type": "code",
        "colab": {}
      },
      "source": [
        "def linearexample1(a,taritem):\n",
        "  flag=0\n",
        "  for i in range(len(a)):\n",
        "    if(a[i]==taritem):\n",
        "      flag=flag+1\n",
        "    \n",
        "  print(flag)\n",
        "  \n",
        "  a=[1,5,9,6,5,15,12,5]\n",
        "  linearexample1(a,5)"
      ],
      "execution_count": 0,
      "outputs": []
    },
    {
      "cell_type": "code",
      "metadata": {
        "id": "hR02dbimsrzq",
        "colab_type": "code",
        "colab": {}
      },
      "source": [
        "def linearexample2(a,taritem):\n",
        "  flag=0\n",
        "  for i in range(len(a)):\n",
        "      if a[i]==taritem:\n",
        "          j=0\n",
        "          while j!=i+1:\n",
        "            print(\"!\",end=\" \")\n",
        "            j=j+1\n",
        "      print(end=\" \")\n",
        "      \n",
        "a=[1,5,9,6,5,15,12,5]  \n",
        "linearexample2(a,5)"
      ],
      "execution_count": 0,
      "outputs": []
    },
    {
      "cell_type": "code",
      "metadata": {
        "id": "0ejr5Mqgx1uX",
        "colab_type": "code",
        "colab": {}
      },
      "source": [
        "def linearmultiple(x):\n",
        "  sum=0\n",
        "  for i in range(len(x)):\n",
        "    if(x[i]%3==0 and x[i]%5==0):\n",
        "      sum=sum+x[i]\n",
        "  return sum\n",
        "\n",
        "x=[15,22,29,18,37,45]\n",
        "print(linearmultiple(x))\n",
        "\n"
      ],
      "execution_count": 0,
      "outputs": []
    },
    {
      "cell_type": "code",
      "metadata": {
        "id": "3UZQkoBV2GMQ",
        "colab_type": "code",
        "colab": {}
      },
      "source": [
        "def linearformatedoutput(a):\n",
        "  for i in range(len(a)):\n",
        "    if i==0 or i==(len(a)-1):\n",
        "       print(a[i],end=\" \")\n",
        "    elif a[i-1]%2==0 and a[i+1]%2==0:\n",
        "      print(a[i],end=\" \")\n",
        "  \n",
        " \n",
        "a=[1,6,9,4,16,19,22]\n",
        "linearformatedoutput(a);\n",
        "  "
      ],
      "execution_count": 0,
      "outputs": []
    },
    {
      "cell_type": "code",
      "metadata": {
        "id": "JcTTSRks61IL",
        "colab_type": "code",
        "colab": {}
      },
      "source": [
        "def binarysearch(a,lindex,rindex,taritem):\n",
        "  while lindex<=rindex:\n",
        "    midindex=lindex+(rindex-lindex)//2;\n",
        "    if a[midindex]==taritem:\n",
        "      return midindex\n",
        "    if a[midindex]>taritem:\n",
        "      rindex=midindex-1\n",
        "    else:\n",
        "      lindex=midindex+1\n",
        "  return -1\n",
        "list1=[1,4,9,15,25,57,88,98]\n",
        "res=binarysearch(list1,0,8,57)\n",
        "if res!=-1:\n",
        "  print(\"Item found\")\n",
        "else:\n",
        "  print(\"Item not found\")"
      ],
      "execution_count": 0,
      "outputs": []
    },
    {
      "cell_type": "code",
      "metadata": {
        "id": "4RTziwYd4bb3",
        "colab_type": "code",
        "outputId": "7b457d85-f86f-4acc-aad8-05544d86ca96",
        "colab": {
          "base_uri": "https://localhost:8080/",
          "height": 34
        }
      },
      "source": [
        "def bubblesort(a):\n",
        "  for i in range(len(a)-1):\n",
        "    for j in range(len(a)-1):\n",
        "      if a[j]>a[j+1]:\n",
        "        a[j],a[j+1]=a[j+1],a[j]\n",
        "        \n",
        "  for i in range(len(a)):\n",
        "    print(a[i],end=\" \")\n",
        "    \n",
        "list1=[19,1,25,6,18,3]\n",
        "bubblesort(list1)"
      ],
      "execution_count": 0,
      "outputs": [
        {
          "output_type": "stream",
          "text": [
            "1 3 6 18 19 25 "
          ],
          "name": "stdout"
        }
      ]
    },
    {
      "cell_type": "code",
      "metadata": {
        "id": "kb4WHtYUCP34",
        "colab_type": "code",
        "outputId": "8dd37903-5de1-4ae8-9b1c-252382b9696c",
        "colab": {
          "base_uri": "https://localhost:8080/",
          "height": 50
        }
      },
      "source": [
        "def Palindrome(s):\n",
        "  if s==s[::-1]:\n",
        "    return True\n",
        "  else:\n",
        "    return False\n",
        "    \n",
        "print(Palindrome(\"Python\"))\n",
        "print(Palindrome(\"jalaj\"))"
      ],
      "execution_count": 0,
      "outputs": [
        {
          "output_type": "stream",
          "text": [
            "False\n",
            "True\n"
          ],
          "name": "stdout"
        }
      ]
    },
    {
      "cell_type": "code",
      "metadata": {
        "id": "VPx-xys-TJcH",
        "colab_type": "code",
        "outputId": "064ef063-6706-4a4b-ec33-b71ef493e089",
        "colab": {
          "base_uri": "https://localhost:8080/",
          "height": 50
        }
      },
      "source": [
        "def countuppercase(str):\n",
        "  count=0\n",
        "  lst=list(str)\n",
        "  for x in range(len(lst)):\n",
        "    if ord(lst[x])>=65 and ord(lst[x])<=90:\n",
        "           count=count+1\n",
        "  return count\n",
        "       \n",
        "print(countuppercase(\"Application\"))         \n",
        "print(countuppercase(\"TeST\"))         "
      ],
      "execution_count": 0,
      "outputs": [
        {
          "output_type": "stream",
          "text": [
            "1\n",
            "3\n"
          ],
          "name": "stdout"
        }
      ]
    },
    {
      "cell_type": "code",
      "metadata": {
        "id": "MldAGMD2aoWX",
        "colab_type": "code",
        "colab": {
          "base_uri": "https://localhost:8080/",
          "height": 34
        },
        "outputId": "6e8d154e-32b0-448a-b3b1-d0e05b872bd3"
      },
      "source": [
        "def sumofdigits(str):\n",
        "  sum=0\n",
        "  lst=list(str)\n",
        "  for x in range(len(lst)):\n",
        "    if ord(lst[x])>=48 and ord(lst[x])<=57:\n",
        "        sum=sum+ord(lst[x])-48\n",
        "      \n",
        "  return sum\n",
        "sumofdigits(\"Application1889\")"
      ],
      "execution_count": 30,
      "outputs": [
        {
          "output_type": "execute_result",
          "data": {
            "text/plain": [
              "26"
            ]
          },
          "metadata": {
            "tags": []
          },
          "execution_count": 30
        }
      ]
    },
    {
      "cell_type": "code",
      "metadata": {
        "id": "2nFLRv7R3A-S",
        "colab_type": "code",
        "colab": {
          "base_uri": "https://localhost:8080/",
          "height": 67
        },
        "outputId": "93de9767-ff69-4be6-ddba-37dafce83ba9"
      },
      "source": [
        "def sumofevendigits(str):\n",
        "  sum=0\n",
        "  lst=list(str)\n",
        "  for x in range(len(lst)):\n",
        "    if ord(lst[x])>=48 and ord(lst[x])<=57:\n",
        "      if ord(lst[x])%2==0:\n",
        "        sum=sum+ord(lst[x])-48\n",
        "      \n",
        "  return sum\n",
        "print(sumofevendigits(\"Application1889\"))\n",
        "print(sumofevendigits(\"Te1591st\"))\n",
        "print(sumofevendigits(\"Wor7852king\"))"
      ],
      "execution_count": 39,
      "outputs": [
        {
          "output_type": "stream",
          "text": [
            "16\n",
            "0\n",
            "10\n"
          ],
          "name": "stdout"
        }
      ]
    },
    {
      "cell_type": "code",
      "metadata": {
        "id": "A0T2b9wW65Ij",
        "colab_type": "code",
        "colab": {
          "base_uri": "https://localhost:8080/",
          "height": 67
        },
        "outputId": "acfc57b5-1816-4048-b6ea-5dc317039a0c"
      },
      "source": [
        "def sumofodddigits(str):\n",
        "  sum=0\n",
        "  lst=list(str)\n",
        "  for x in range(len(lst)):\n",
        "    if ord(lst[x])>=48 and ord(lst[x])<=57:\n",
        "      if ord(lst[x])%2!=0:\n",
        "        sum=sum+ord(lst[x])-48\n",
        "      \n",
        "  return sum\n",
        "print(sumofodddigits(\"Application1889\"))\n",
        "print(sumofodddigits(\"Te1591st\"))\n",
        "print(sumofodddigits(\"Wor7852king\"))"
      ],
      "execution_count": 40,
      "outputs": [
        {
          "output_type": "stream",
          "text": [
            "10\n",
            "16\n",
            "12\n"
          ],
          "name": "stdout"
        }
      ]
    },
    {
      "cell_type": "code",
      "metadata": {
        "id": "-F24XgUf9VY7",
        "colab_type": "code",
        "colab": {}
      },
      "source": [
        ""
      ],
      "execution_count": 0,
      "outputs": []
    }
  ]
}